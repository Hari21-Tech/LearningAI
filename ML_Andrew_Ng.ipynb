{
 "cells": [
  {
   "metadata": {
    "ExecuteTime": {
     "end_time": "2024-12-27T19:56:27.996889Z",
     "start_time": "2024-12-27T19:56:22.208748Z"
    }
   },
   "cell_type": "code",
   "source": [
    "def canchange(k):\n",
    "    # Base cases\n",
    "    if k < 0:\n",
    "        return -1  # Not possible to make negative values\n",
    "    if k == 0:\n",
    "        return 0  # No coins needed to make 0\n",
    "\n",
    "    # Initialize the minimum number of coins to a large value\n",
    "    min_coins = float('inf')\n",
    "\n",
    "    # Try using coins of denominations 3, 5, and 10\n",
    "    for coin in [3, 5, 10]:\n",
    "        result = canchange(k - coin)\n",
    "        if result != -1:  # Check if it's possible to make change for the remainder\n",
    "            min_coins = min(min_coins, result + 1)\n",
    "\n",
    "    # If no valid way to make the change, return -1\n",
    "    return min_coins if min_coins != float('inf') else -1\n",
    "\n",
    "# Example usage\n",
    "if __name__ == \"__main__\":\n",
    "    k = int(input(\"Enter the amount: \"))\n",
    "    result = canchange(k)\n",
    "    if result == -1:\n",
    "        print(f\"It is not possible to pay {k} using these coins.\")\n",
    "    else:\n",
    "        print(f\"The minimum number of coins needed to pay {k} is {result}.\")"
   ],
   "id": "f0da43b6e7c2bb7a",
   "outputs": [
    {
     "name": "stdout",
     "output_type": "stream",
     "text": [
      "The minimum number of coins needed to pay 14 is 4.\n"
     ]
    }
   ],
   "execution_count": 1
  }
 ],
 "metadata": {
  "kernelspec": {
   "display_name": "Python 3",
   "language": "python",
   "name": "python3"
  },
  "language_info": {
   "codemirror_mode": {
    "name": "ipython",
    "version": 2
   },
   "file_extension": ".py",
   "mimetype": "text/x-python",
   "name": "python",
   "nbconvert_exporter": "python",
   "pygments_lexer": "ipython2",
   "version": "2.7.6"
  }
 },
 "nbformat": 4,
 "nbformat_minor": 5
}
